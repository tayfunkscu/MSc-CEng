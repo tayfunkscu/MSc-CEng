{
  "nbformat": 4,
  "nbformat_minor": 0,
  "metadata": {
    "colab": {
      "provenance": [],
      "authorship_tag": "ABX9TyPSfk+e7tszObw/e0gy/MM6",
      "include_colab_link": true
    },
    "kernelspec": {
      "name": "python3",
      "display_name": "Python 3"
    },
    "language_info": {
      "name": "python"
    }
  },
  "cells": [
    {
      "cell_type": "markdown",
      "metadata": {
        "id": "view-in-github",
        "colab_type": "text"
      },
      "source": [
        "<a href=\"https://colab.research.google.com/github/tayfunkscu/MSc-CEng/blob/main/BLM593/Homework_03.ipynb\" target=\"_parent\"><img src=\"https://colab.research.google.com/assets/colab-badge.svg\" alt=\"Open In Colab\"/></a>"
      ]
    },
    {
      "cell_type": "markdown",
      "source": [
        "**Problem:** In a certain factory, machines are either made by company A or company B. Company A produces 60% of the machines, while company B produces the remaining 40%. 5% of the machines produced by company A are defective, while 10% of the machines produced by company B are defective. If a machine is randomly selected and found to be defective, what is the probability that it was produced by company B?\n",
        "\n",
        "---\n",
        "\n",
        "**Solution:** Let A be the event that the machine was produced by company A, and let B be the event that it was produced by company B. Let D be the event that the machine is defective. We want to find **P(B|D)**, the probability that the machine was produced by company B given that it is defective.\n",
        "\n",
        "By Bayes' Theorem, we have:\n",
        "\n",
        "P(B|D) = P(D|B) * P(B) / P(D)\n",
        "\n",
        "We can calculate the probabilities on the right-hand side of this equation as follows:\n",
        "\n",
        "- P(D|B) = 0.1 (since 10% of machines produced by company B are defective)\n",
        "- P(B) = 0.4 (since company B produces 40% of the machines)\n",
        "- P(D) = P(D|A) * P(A) + P(D|B) * P(B) = 0.05 * 0.6 + 0.1 * 0.4 = 0.07 (since the probability of a machine being defective is the sum of the probabilities of it being produced by company A and being produced by company B)\n",
        "\n",
        "Substituting these values into Bayes' Theorem, we get:\n",
        "\n",
        "- P(B|D) = 0.1 * 0.4 / 0.07 = 4/7\n",
        "\n",
        "Therefore, the probability that a randomly selected defective machine was produced by company B is 4/7, or **approximately 0.57**."
      ],
      "metadata": {
        "id": "91nwRdcD7npH"
      }
    },
    {
      "cell_type": "code",
      "execution_count": 1,
      "metadata": {
        "colab": {
          "base_uri": "https://localhost:8080/"
        },
        "id": "uBBtkWyG7jFf",
        "outputId": "f570e179-ffcd-4ff5-a43c-13513aa1236f"
      },
      "outputs": [
        {
          "output_type": "stream",
          "name": "stdout",
          "text": [
            "The probability that a randomly selected defective machine was produced by company B is: 0.5714285714285715\n"
          ]
        }
      ],
      "source": [
        "# Define the probabilities\n",
        "p_a = 0.6  # probability that a machine is produced by company A\n",
        "p_b = 0.4  # probability that a machine is produced by company B\n",
        "p_d_given_a = 0.05  # probability that a machine produced by A is defective\n",
        "p_d_given_b = 0.1  # probability that a machine produced by B is defective\n",
        "\n",
        "# Calculate the conditional probability\n",
        "p_d = p_d_given_a * p_a + p_d_given_b * p_b  # probability that a randomly selected machine is defective\n",
        "p_b_given_d = p_d_given_b * p_b / p_d  # probability that a randomly selected defective machine was produced by company B\n",
        "\n",
        "# Print the result\n",
        "print(\"The probability that a randomly selected defective machine was produced by company B is:\", p_b_given_d)"
      ]
    }
  ]
}