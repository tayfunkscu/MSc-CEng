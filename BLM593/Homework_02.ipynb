{
  "nbformat": 4,
  "nbformat_minor": 0,
  "metadata": {
    "colab": {
      "provenance": [],
      "authorship_tag": "ABX9TyM5Tc+UYi5qHnC4PqjTLToM",
      "include_colab_link": true
    },
    "kernelspec": {
      "name": "python3",
      "display_name": "Python 3"
    },
    "language_info": {
      "name": "python"
    }
  },
  "cells": [
    {
      "cell_type": "markdown",
      "metadata": {
        "id": "view-in-github",
        "colab_type": "text"
      },
      "source": [
        "<a href=\"https://colab.research.google.com/github/tayfunkscu/MSc-CEng/blob/main/BLM593/Homework_02.ipynb\" target=\"_parent\"><img src=\"https://colab.research.google.com/assets/colab-badge.svg\" alt=\"Open In Colab\"/></a>"
      ]
    },
    {
      "cell_type": "markdown",
      "source": [
        ">Suppose we have a network of 50 computers. Each computer can be either **on or off** at any given time, and the probability that any given computer is on is **0.9**. However, there is a probability of **0.15** that any given computer may fail and become unavailable. \n",
        "\n",
        "**Question:** *What is the probability of having a working computer in the network at any given time?*\n",
        "\n",
        "---\n",
        "\n",
        "We know that the probability of having a computer on is **0.9** and the probability of having a computer fail is **0.15**. Therefore, the probability of having a computer working is 0.9 * (1 - 0.15) = 0.765.\n",
        "\n",
        "---\n",
        "\n",
        "**Question:** *What is the probability that there are at least 40 working computers in the network at any given time?*\n",
        "\n",
        "---\n",
        "\n",
        "Let W be the number of working computers. We can calculate the probability of having at least 40 working computers as follows:\n",
        "\n",
        "P(W >= 40) = P(W = 40) + P(W = 41) + ... + P(W = 50)\n",
        "\n",
        "The probability of having exactly k working computers is the product of the probabilities of k computers being working and (50 - k) computers being failed:\n",
        "\n",
        "P(W = k) = (0.765)^k * (0.235)^(50-k)\n",
        "\n",
        "The number of ways to choose k computers out of 50 is:\n",
        "\n",
        "C(50, k) = 50! / (k! * (50 - k)!)\n",
        "\n",
        "Since the computers are independent, we can calculate the probability of having k working computers as the product of the probabilities of each computer being working or not working:\n",
        "\n",
        "P(W = k) = C(50, k) * (0.765)^k * (0.235)^(50-k)\n",
        "\n",
        "We can implement this calculation in Python as follows:"
      ],
      "metadata": {
        "id": "8E83e8qmuVl0"
      }
    },
    {
      "cell_type": "code",
      "execution_count": 6,
      "metadata": {
        "colab": {
          "base_uri": "https://localhost:8080/"
        },
        "id": "Zcziq6SrmLYd",
        "outputId": "7a0f989d-68e1-4edf-f89a-1040fd873ff3"
      },
      "outputs": [
        {
          "output_type": "stream",
          "name": "stdout",
          "text": [
            "The probability of having a working computer is: 0.765\n",
            "The probability of having at least 40 working computers is: 0.3477712300015058\n"
          ]
        }
      ],
      "source": [
        "import math\n",
        "\n",
        "p_working = 0.9 * (1 - 0.15)\n",
        "p_failure = 1 - p_working\n",
        "n = 50\n",
        "\n",
        "print(\"The probability of having a working computer is:\", p_working)\n",
        "\n",
        "p_at_least_40 = 0\n",
        "\n",
        "for k in range(40, n+1):\n",
        "    p_k = math.comb(n, k) * (p_working ** k) * (p_failure ** (n-k))\n",
        "    p_at_least_40 += p_k\n",
        "    \n",
        "print(\"The probability of having at least 40 working computers is:\", p_at_least_40)"
      ]
    }
  ]
}