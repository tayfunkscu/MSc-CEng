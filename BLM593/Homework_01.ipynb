{
  "nbformat": 4,
  "nbformat_minor": 0,
  "metadata": {
    "colab": {
      "provenance": [],
      "authorship_tag": "ABX9TyP2hqMcZhHXBTCLGDhJauJk",
      "include_colab_link": true
    },
    "kernelspec": {
      "name": "python3",
      "display_name": "Python 3"
    },
    "language_info": {
      "name": "python"
    }
  },
  "cells": [
    {
      "cell_type": "markdown",
      "metadata": {
        "id": "view-in-github",
        "colab_type": "text"
      },
      "source": [
        "<a href=\"https://colab.research.google.com/github/tayfunkscu/MSc-CEng/blob/main/BLM593/Homework_01.ipynb\" target=\"_parent\"><img src=\"https://colab.research.google.com/assets/colab-badge.svg\" alt=\"Open In Colab\"/></a>"
      ]
    },
    {
      "cell_type": "markdown",
      "source": [
        "# Permutation Problem\n",
        "\n",
        "One permutation problem in robotics is the problem of finding all possible orders in which a robotic arm can move to a set of predetermined locations. This problem is known as the Traveling Salesman Problem (TSP), which is a well-known NP-hard problem in computer science. In this example, we will use the brute force approach to solve a small instance of the TSP problem.\n",
        "\n",
        "First, we need to define the locations that the robotic arm needs to visit. In this example, we will use four locations, which are represented by their (x, y) coordinates:"
      ],
      "metadata": {
        "id": "RBJw0Ke5-2RH"
      }
    },
    {
      "cell_type": "code",
      "execution_count": 35,
      "metadata": {
        "id": "o159A9E5-s-Z"
      },
      "outputs": [],
      "source": [
        "locations = {\n",
        "    \"A\": (5, 1),\n",
        "    \"B\": (2, 1),\n",
        "    \"C\": (3, 2),\n",
        "    \"D\": (1, 4),\n",
        "    \"E\": (2, 2),\n",
        "}"
      ]
    },
    {
      "cell_type": "markdown",
      "source": [
        "Next, we need to define a function to calculate the distance between two locations. In this example, we will use the Euclidean distance:"
      ],
      "metadata": {
        "id": "rzddXFD7_Khd"
      }
    },
    {
      "cell_type": "code",
      "source": [
        "import math\n",
        "\n",
        "def distance(loc1, loc2):\n",
        "    x1, y1 = loc1\n",
        "    x2, y2 = loc2\n",
        "    return math.sqrt((x1 - x2) ** 2 + (y1 - y2) ** 2)"
      ],
      "metadata": {
        "id": "KFas8Ga5_Scd"
      },
      "execution_count": 36,
      "outputs": []
    },
    {
      "cell_type": "markdown",
      "source": [
        "Now, we can define a function to generate all possible orders in which the robotic arm can visit the locations:"
      ],
      "metadata": {
        "id": "2hnc6PzO_NV_"
      }
    },
    {
      "cell_type": "code",
      "source": [
        "import itertools\n",
        "\n",
        "def generate_orders(locations):\n",
        "    locations_list = list(locations.keys())\n",
        "    orders = itertools.permutations(locations_list)\n",
        "    return orders"
      ],
      "metadata": {
        "id": "T3R01Vsv_VFu"
      },
      "execution_count": 37,
      "outputs": []
    },
    {
      "cell_type": "markdown",
      "source": [
        "Finally, we can use the generated orders to calculate the total distance that the robotic arm needs to travel for each order and return the order with the shortest total distance:"
      ],
      "metadata": {
        "id": "-2yN9qxB_WvM"
      }
    },
    {
      "cell_type": "code",
      "source": [
        "def shortest_distance(locations):\n",
        "    orders = generate_orders(locations)\n",
        "    shortest_order = None\n",
        "    shortest_distance = float(\"inf\")\n",
        "    for order in orders:\n",
        "        total_distance = 0\n",
        "        for i in range(len(order) - 1):\n",
        "            loc1 = locations[order[i]]\n",
        "            loc2 = locations[order[i+1]]\n",
        "            total_distance += distance(loc1, loc2)\n",
        "        if total_distance < shortest_distance:\n",
        "            shortest_order = order\n",
        "            shortest_distance = total_distance\n",
        "    return shortest_order, shortest_distance"
      ],
      "metadata": {
        "id": "h2IANOcr_WUa"
      },
      "execution_count": 38,
      "outputs": []
    },
    {
      "cell_type": "markdown",
      "source": [
        "Now, we can test our function with the following code:"
      ],
      "metadata": {
        "id": "FQM1E60p_dZC"
      }
    },
    {
      "cell_type": "code",
      "source": [
        "shortest_order, shortest_distance = shortest_distance(locations)\n",
        "print(\"Shortest order:\", shortest_order)\n",
        "print(\"Shortest distance:\", shortest_distance)"
      ],
      "metadata": {
        "colab": {
          "base_uri": "https://localhost:8080/"
        },
        "id": "qj0V62pG_bv9",
        "outputId": "cb86e803-5aae-4031-cc38-1016068e38cf"
      },
      "execution_count": 39,
      "outputs": [
        {
          "output_type": "stream",
          "name": "stdout",
          "text": [
            "Shortest order: ('A', 'C', 'B', 'E', 'D')\n",
            "Shortest distance: 6.8863495173726745\n"
          ]
        }
      ]
    },
    {
      "cell_type": "markdown",
      "source": [
        "This means that the robotic arm should move in the following order to minimize the total distance traveled: A -> C -> B -> E -> D. The total distance traveled in this order is approximately 6.88 units."
      ],
      "metadata": {
        "id": "Z1C9X7k6_lIK"
      }
    },
    {
      "cell_type": "markdown",
      "source": [
        "# Combination Problem\n",
        "\n",
        "Password generator that generates a random password that meets certain constraints.\n",
        "\n",
        "Generated password must contain at least:\n",
        "- one uppercase letter\n",
        "- two digits\n",
        "- two lowercase letters\n",
        "- three special characters.\n",
        "\n",
        "Solution:"
      ],
      "metadata": {
        "id": "f_hw3bWjAT3H"
      }
    },
    {
      "cell_type": "code",
      "source": [
        "import random\n",
        "import string\n",
        "\n",
        "# Define the length of the password\n",
        "length = 10\n",
        "\n",
        "# Define the characters to choose from\n",
        "letters = string.ascii_letters\n",
        "numbers = string.digits\n",
        "special_chars = string.punctuation\n",
        "\n",
        "# Ensure at least one uppercase letter, two digits, lowercase letters, and three special characters\n",
        "password = [random.choice(letters.upper())]\n",
        "password += [random.choice(numbers) for _ in range(2)]\n",
        "password += [random.choice(letters) for _ in range(2)]\n",
        "password += [random.choice(special_chars) for _ in range(3)]\n",
        "\n",
        "# Add the remaining characters\n",
        "remaining_length = length - len(password)\n",
        "password += [random.choice(letters + numbers + special_chars) for _ in range(remaining_length)]\n",
        "\n",
        "# Shuffle the password characters\n",
        "random.shuffle(password)\n",
        "\n",
        "# Convert the password list to a string\n",
        "password_str = \"\".join(password)\n",
        "\n",
        "# Print the generated password\n",
        "print(password_str)"
      ],
      "metadata": {
        "colab": {
          "base_uri": "https://localhost:8080/"
        },
        "id": "k1Il36k5CRhh",
        "outputId": "6b017d19-1216-496e-fda5-bc1ddad7ba89"
      },
      "execution_count": 40,
      "outputs": [
        {
          "output_type": "stream",
          "name": "stdout",
          "text": [
            "X?r8T!Z$8&\n"
          ]
        }
      ]
    }
  ]
}